{
 "cells": [
  {
   "cell_type": "code",
   "execution_count": 96,
   "metadata": {},
   "outputs": [],
   "source": [
    "import os\n",
    "from dotenv import load_dotenv\n",
    "\n",
    "load_dotenv()\n",
    "\n",
    "# OPENAI_API_KEY = os.getenv(\"OPENAI_API_KEY\")\n",
    "# MODEL = \"gpt-3.5-turbo\"\n",
    "MODEL = \"gemma:2b\"\n"
   ]
  },
  {
   "cell_type": "code",
   "execution_count": 97,
   "metadata": {},
   "outputs": [
    {
     "data": {
      "text/plain": [
       "'Napolean was a powerful military genius and one of the greatest commanders in history. He was born in Corsica in 1769 and died in 1821. He led the French army to many victories, including the conquest of Italy and the capture of the Turkish city of Constantinople. He was also a brilliant administrator and statesman, and he was a key figure in the rise of France to global dominance in the early 19th century.'"
      ]
     },
     "execution_count": 97,
     "metadata": {},
     "output_type": "execute_result"
    }
   ],
   "source": [
    "from langchain_community.llms import Ollama\n",
    "#from langchain_openai.chat_models import ChatOpenAI\n",
    "from langchain_community.embeddings import OllamaEmbeddings\n",
    "#from langchain_openai.embeddings import OpenAIEmbeddings\n",
    "\n",
    "model = Ollama(model=MODEL)\n",
    "embeddings = OllamaEmbeddings(model='mxbai-embed-large')\n",
    "\n",
    "model.invoke(\"Who was Napolean\")"
   ]
  },
  {
   "cell_type": "code",
   "execution_count": 80,
   "metadata": {},
   "outputs": [
    {
     "data": {
      "text/plain": [
       "'Napoleon Bonaparte was a Corsican general and statesman who rose to prominence in the French Revolution and Napoleonic Wars. Born in Corsica in 1769, he fought in several conflicts before leading the French forces to a series of major victories against the British Empire, culminating in his rise to power in the French Empire. He was a brilliant strategist, a skilled military leader, and a charismatic public figure who captured the imagination of the people of France and Europe. Napoleon was eventually defeated and killed by Russian forces at the age of 32 in 1821.'"
      ]
     },
     "execution_count": 80,
     "metadata": {},
     "output_type": "execute_result"
    }
   ],
   "source": [
    "from langchain_core.output_parsers import StrOutputParser # type: ignore\n",
    "\n",
    "parser = StrOutputParser()\n",
    "\n",
    "chain = model | parser \n",
    "chain.invoke(\"Who was Napoleon?\")"
   ]
  },
  {
   "cell_type": "code",
   "execution_count": 43,
   "metadata": {},
   "outputs": [
    {
     "data": {
      "text/plain": [
       "'\\nAnswer the question based on the context below. If you can\\'t \\nanswer the question, reply \"I don\\'t know\".\\n\\nContext: Here is some context\\n\\nQuestion: Here is a question\\n'"
      ]
     },
     "execution_count": 43,
     "metadata": {},
     "output_type": "execute_result"
    }
   ],
   "source": [
    "from langchain.prompts import PromptTemplate # type: ignore\n",
    "\n",
    "template = \"\"\"\n",
    "Answer the question based on the context below. If you can't \n",
    "answer the question, reply \"I don't know\".\n",
    "\n",
    "Context: {context}\n",
    "\n",
    "Question: {question}\n",
    "\"\"\"\n",
    "\n",
    "prompt = PromptTemplate.from_template(template)\n",
    "prompt.format(context=\"Here is some context\", question=\"Here is a question\")"
   ]
  },
  {
   "cell_type": "code",
   "execution_count": null,
   "metadata": {},
   "outputs": [],
   "source": [
    "chain = prompt | model | parser\n",
    "\n",
    "chain.invoke({\"context\": \"My parents named me Santiago\", \"question\": \"What's your name'?\"})"
   ]
  },
  {
   "cell_type": "code",
   "execution_count": null,
   "metadata": {},
   "outputs": [],
   "source": [
    "import json\n",
    "from pathlib import Path\n",
    "from pprint import pprint\n",
    "from langchain_community.document_loaders import JSONLoader\n",
    "\n",
    "\n",
    "file_path='dev-v2.0.json'\n",
    "data = json.loads(Path(file_path).read_text())\n",
    "pprint(data)\n"
   ]
  },
  {
   "cell_type": "code",
   "execution_count": null,
   "metadata": {},
   "outputs": [],
   "source": [
    "from langchain.schema import Document\n",
    "\n",
    "def create_documents(squad_data):\n",
    "    documents = []\n",
    "    for entry in squad_data['data']:\n",
    "        for paragraph in entry['paragraphs']:\n",
    "            context = paragraph['context']\n",
    "            \n",
    "            documents.append(Document(page_content=context))\n",
    "    return documents\n",
    "\n",
    "documents = create_documents(data)"
   ]
  },
  {
   "cell_type": "code",
   "execution_count": null,
   "metadata": {},
   "outputs": [],
   "source": [
    "# Save the combined context and question into a text file\n",
    "def save_documents_to_txt(documents, file_name):\n",
    "    with open(file_name, 'w', encoding='utf-8') as file:\n",
    "        for document in documents:\n",
    "            file.write(document.page_content + \"\\n\\n\")\n",
    "\n",
    "# Call the function to save the documents\n",
    "save_documents_to_txt(documents, \"squad.txt\")\n"
   ]
  },
  {
   "cell_type": "code",
   "execution_count": 114,
   "metadata": {},
   "outputs": [],
   "source": [
    "from langchain_community.document_loaders import TextLoader\n",
    "from langchain_text_splitters import CharacterTextSplitter\n",
    "documents = TextLoader(\"squad.txt\").load()\n",
    "text_splitter = CharacterTextSplitter(chunk_size=10000, chunk_overlap=10)\n",
    "docs = text_splitter.split_documents(documents)\n",
    "\n"
   ]
  },
  {
   "cell_type": "code",
   "execution_count": 115,
   "metadata": {},
   "outputs": [],
   "source": [
    "from langchain_community.vectorstores import DocArrayInMemorySearch # type: ignore\n",
    "\n",
    "vectorstore = DocArrayInMemorySearch.from_documents(docs, embedding=embeddings)"
   ]
  },
  {
   "cell_type": "code",
   "execution_count": 116,
   "metadata": {},
   "outputs": [
    {
     "data": {
      "text/plain": [
       "[Document(metadata={'source': 'squad.txt'}, page_content='The Normans (Norman: Nourmands; French: Normands; Latin: Normanni) were the people who in the 10th and 11th centuries gave their name to Normandy, a region in France. They were descended from Norse (\"Norman\" comes from \"Norseman\") raiders and pirates from Denmark, Iceland and Norway who, under their leader Rollo, agreed to swear fealty to King Charles III of West Francia. Through generations of assimilation and mixing with the native Frankish and Roman-Gaulish populations, their descendants would gradually merge with the Carolingian-based cultures of West Francia. The distinct cultural and ethnic identity of the Normans emerged initially in the first half of the 10th century, and it continued to evolve over the succeeding centuries.\\n\\nThe Norman dynasty had a major political, cultural and military impact on medieval Europe and even the Near East. The Normans were famed for their martial spirit and eventually for their Christian piety, becoming exponents of the Catholic orthodoxy into which they assimilated. They adopted the Gallo-Romance language of the Frankish land they settled, their dialect becoming known as Norman, Normaund or Norman French, an important literary language. The Duchy of Normandy, which they formed by treaty with the French crown, was a great fief of medieval France, and under Richard I of Normandy was forged into a cohesive and formidable principality in feudal tenure. The Normans are noted both for their culture, such as their unique Romanesque architecture and musical traditions, and for their significant military accomplishments and innovations. Norman adventurers founded the Kingdom of Sicily under Roger II after conquering southern Italy on the Saracens and Byzantines, and an expedition on behalf of their duke, William the Conqueror, led to the Norman conquest of England at the Battle of Hastings in 1066. Norman cultural and military influence spread from these new European centres to the Crusader states of the Near East, where their prince Bohemond I founded the Principality of Antioch in the Levant, to Scotland and Wales in Great Britain, to Ireland, and to the coasts of north Africa and the Canary Islands.\\n\\nThe English name \"Normans\" comes from the French words Normans/Normanz, plural of Normant, modern French normand, which is itself borrowed from Old Low Franconian Nortmann \"Northman\" or directly from Old Norse Norðmaðr, Latinized variously as Nortmannus, Normannus, or Nordmannus (recorded in Medieval Latin, 9th century) to mean \"Norseman, Viking\".\\n\\nIn the course of the 10th century, the initially destructive incursions of Norse war bands into the rivers of France evolved into more permanent encampments that included local women and personal property. The Duchy of Normandy, which began in 911 as a fiefdom, was established by the treaty of Saint-Clair-sur-Epte between King Charles III of West Francia and the famed Viking ruler Rollo, and was situated in the former Frankish kingdom of Neustria. The treaty offered Rollo and his men the French lands between the river Epte and the Atlantic coast in exchange for their protection against further Viking incursions. The area corresponded to the northern part of present-day Upper Normandy down to the river Seine, but the Duchy would eventually extend west beyond the Seine. The territory was roughly equivalent to the old province of Rouen, and reproduced the Roman administrative structure of Gallia Lugdunensis II (part of the former Gallia Lugdunensis).\\n\\nBefore Rollo\\'s arrival, its populations did not differ from Picardy or the Île-de-France, which were considered \"Frankish\". Earlier Viking settlers had begun arriving in the 880s, but were divided between colonies in the east (Roumois and Pays de Caux) around the low Seine valley and in the west in the Cotentin Peninsula, and were separated by traditional pagii, where the population remained about the same with almost no foreign settlers. Rollo\\'s contingents who raided and ultimately settled Normandy and parts of the Atlantic coast included Danes, Norwegians, Norse–Gaels, Orkney Vikings, possibly Swedes, and Anglo-Danes from the English Danelaw under Norse control.\\n\\nThe descendants of Rollo\\'s Vikings and their Frankish wives would replace the Norse religion and Old Norse language with Catholicism (Christianity) and the Gallo-Romance language of the local people, blending their maternal Frankish heritage with Old Norse traditions and customs to synthesize a unique \"Norman\" culture in the north of France. The Norman language was forged by the adoption of the indigenous langue d\\'oïl branch of Romance by a Norse-speaking ruling class, and it developed into the regional language that survives today.\\n\\nThe Normans thereafter adopted the growing feudal doctrines of the rest of France, and worked them into a functional hierarchical system in both Normandy and in England. The new Norman rulers were culturally and ethnically distinct from the old French aristocracy, most of whom traced their lineage to Franks of the Carolingian dynasty. Most Norman knights remained poor and land-hungry, and by 1066 Normandy had been exporting fighting horsemen for more than a generation. Many Normans of Italy, France and England eventually served as avid Crusaders under the Italo-Norman prince Bohemund I and the Anglo-Norman king Richard the Lion-Heart.\\n\\nSoon after the Normans began to enter Italy, they entered the Byzantine Empire and then Armenia, fighting against the Pechenegs, the Bulgars, and especially the Seljuk Turks. Norman mercenaries were first encouraged to come to the south by the Lombards to act against the Byzantines, but they soon fought in Byzantine service in Sicily. They were prominent alongside Varangian and Lombard contingents in the Sicilian campaign of George Maniaces in 1038–40. There is debate whether the Normans in Greek service actually were from Norman Italy, and it now seems likely only a few came from there. It is also unknown how many of the \"Franks\", as the Byzantines called them, were Normans and not other Frenchmen.\\n\\nOne of the first Norman mercenaries to serve as a Byzantine general was Hervé in the 1050s. By then however, there were already Norman mercenaries serving as far away as Trebizond and Georgia. They were based at Malatya and Edessa, under the Byzantine duke of Antioch, Isaac Komnenos. In the 1060s, Robert Crispin led the Normans of Edessa against the Turks. Roussel de Bailleul even tried to carve out an independent state in Asia Minor with support from the local population, but he was stopped by the Byzantine general Alexius Komnenos.\\n\\nSome Normans joined Turkish forces to aid in the destruction of the Armenians vassal-states of Sassoun and Taron in far eastern Anatolia. Later, many took up service with the Armenian state further south in Cilicia and the Taurus Mountains. A Norman named Oursel led a force of \"Franks\" into the upper Euphrates valley in northern Syria. From 1073 to 1074, 8,000 of the 20,000 troops of the Armenian general Philaretus Brachamius were Normans—formerly of Oursel—led by Raimbaud. They even lent their ethnicity to the name of their castle: Afranji, meaning \"Franks.\" The known trade between Amalfi and Antioch and between Bari and Tarsus may be related to the presence of Italo-Normans in those cities while Amalfi and Bari were under Norman rule in Italy.\\n\\nSeveral families of Byzantine Greece were of Norman mercenary origin during the period of the Comnenian Restoration, when Byzantine emperors were seeking out western European warriors. The Raoulii were descended from an Italo-Norman named Raoul, the Petraliphae were descended from a Pierre d\\'Aulps, and that group of Albanian clans known as the Maniakates were descended from Normans who served under George Maniaces in the Sicilian expedition of 1038.\\n\\nRobert Guiscard, an other Norman adventurer previously elevated to the dignity of count of Apulia as the result of his military successes, ultimately drove the Byzantines out of southern Italy. Having obtained the consent of pope Gregory VII and acting as his vassal, Robert continued his campaign conquering the Balkan peninsula as a foothold for western feudal lords and the Catholic Church. After allying himself with Croatia and the Catholic cities of Dalmatia, in 1081 he led an army of 30,000 men in 300 ships landing on the southern shores of Albania, capturing Valona, Kanina, Jericho (Orikumi), and reaching Butrint after numerous pillages. They joined the fleet that had previously conquered Corfu and attacked Dyrrachium from land and sea, devastating everything along the way. Under these harsh circumstances, the locals accepted the call of emperor Alexius I Comnenus to join forces with the Byzantines against the Normans. The Albanian forces could not take part in the ensuing battle because it had started before their arrival. Immediately before the battle, the Venetian fleet had secured a victory in the coast surrounding the city. Forced to retreat, Alexius ceded the command to a high Albanian official named Comiscortes in the service of Byzantium. The city\\'s garrison resisted until February 1082, when Dyrrachium was betrayed to the Normans by the Venetian and Amalfitan merchants who had settled there. The Normans were now free to penetrate into the hinterland; they took Ioannina and some minor cities in southwestern Macedonia and Thessaly before appearing at the gates of Thessalonica. Dissension among the high ranks coerced the Normans to retreat to Italy. They lost Dyrrachium, Valona, and Butrint in 1085, after the death of Robert.'),\n",
       " Document(metadata={'source': 'squad.txt'}, page_content='Europe\\'s expansion into territorial imperialism was largely focused on economic growth by collecting resources from colonies, in combination with assuming political control by military and political means. The colonization of India in the mid-18th century offers an example of this focus: there, the \"British exploited the political weakness of the Mughal state, and, while military activity was important at various times, the economic and administrative incorporation of local elites was also of crucial significance\" for the establishment of control over the subcontinent\\'s resources, markets, and manpower. Although a substantial number of colonies had been designed to provide economic profit and to ship resources to home ports in the seventeenth and eighteenth centuries, Fieldhouse suggests that in the nineteenth and twentieth centuries in places such as Africa and Asia, this idea is not necessarily valid:\\n\\nAlong with advancements in communication, Europe also continued to advance in military technology. European chemists made deadly explosives that could be used in combat, and with innovations in machinery they were able to manufacture improved firearms. By the 1880s, the machine gun had become an effective battlefield weapon. This technology gave European armies an advantage over their opponents, as armies in less-developed countries were still fighting with arrows, swords, and leather shields (e.g. the Zulus in Southern Africa during the Anglo-Zulu War of 1879).\\n\\nIn anglophone academic works, theories regarding imperialism are often based on the British experience. The term \"Imperialism\" was originally introduced into English in its present sense in the late 1870s by opponents of the allegedly aggressive and ostentatious imperial policies of British prime Minister Benjamin Disraeli. It was shortly appropriated by supporters of \"imperialism\" such as Joseph Chamberlain. For some, imperialism designated a policy of idealism and philanthropy; others alleged that it was characterized by political self-interest, and a growing number associated it with capitalist greed. Liberal John A. Hobson and Marxist Vladimir Lenin added a more theoretical macroeconomic connotation to the term. Lenin in particular exerted substantial influence over later Marxist conceptions of imperialism with his work Imperialism, the Highest Stage of Capitalism. In his writings Lenin portrayed Imperialism as a natural extension of capitalism that arose from need for capitalist economies to constantly expand investment, material resources and manpower in such a way that necessitated colonial expansion. This conception of imperialism as a structural feature of capitalism is echoed by later Marxist theoreticians. Many theoreticians on the left have followed in emphasizing the structural or systemic character of \"imperialism\". Such writers have expanded the time period associated with the term so that it now designates neither a policy, nor a short space of decades in the late 19th century, but a world system extending over a period of centuries, often going back to Christopher Columbus and, in some accounts, to the Crusades. As the application of the term has expanded, its meaning has shifted along five distinct but often parallel axes: the moral, the economic, the systemic, the cultural, and the temporal. Those changes reflect - among other shifts in sensibility - a growing unease, even squeamishness, with the fact of power, specifically, Western power.\\n\\nThe correlation between capitalism, aristocracy, and imperialism has long been debated among historians and political theorists. Much of the debate was pioneered by such theorists as J. A. Hobson (1858–1940), Joseph Schumpeter (1883–1950), Thorstein Veblen (1857–1929), and Norman Angell (1872–1967). While these non-Marxist writers were at their most prolific before World War I, they remained active in the interwar years. Their combined work informed the study of imperialism and it\\'s impact on Europe, as well as contributed to reflections on the rise of the military-political complex in the United States from the 1950s. Hobson argued that domestic social reforms could cure the international disease of imperialism by removing its economic foundation. Hobson theorized that state intervention through taxation could boost broader consumption, create wealth, and encourage a peaceful, tolerant, multipolar world order.\\n\\nThe concept environmental determinism served as a moral justification for domination of certain territories and peoples. It was believed that a certain person\\'s behaviours were determined by the environment in which they lived and thus validated their domination. For example, people living in tropical environments were seen as \"less civilized\" therefore justifying colonial control as a civilizing mission. Across the three waves of European colonialism (first in the Americas, second in Asia and lastly in Africa), environmental determinism was used to categorically place indigenous people in a racial hierarchy. This takes two forms, orientalism and tropicality.\\n\\nAccording to geographic scholars under colonizing empires, the world could be split into climatic zones. These scholars believed that Northern Europe and the Mid-Atlantic temperate climate produced a hard-working, moral, and upstanding human being. Alternatively, tropical climates yielded lazy attitudes, sexual promiscuity, exotic culture, and moral degeneracy. The people of these climates were believed to be in need of guidance and intervention from the European empire to aid in the governing of a more evolved social structure; they were seen as incapable of such a feat. Similarly, orientalism is a view of a people based on their geographical location. \\n\\nBritain\\'s imperialist ambitions can be seen as early as the sixteenth century. In 1599 the British East India Company was established and was chartered by Queen Elizabeth in the following year. With the establishment of trading posts in India, the British were able to maintain strength relative to others empires such as the Portuguese who already had set up trading posts in India. In 1767 political activity caused exploitation of the East India Company causing the plundering of the local economy, almost bringing the company into bankruptcy.\\n\\nFrance took control of Algeria in 1830 but began in earnest to rebuild its worldwide empire after 1850, concentrating chiefly in North and West Africa, as well as South-East Asia, with other conquests in Central and East Africa, as well as the South Pacific. Republicans, at first hostile to empire, only became supportive when Germany started to build her own colonial empire. As it developed, the new empire took on roles of trade with France, supplying raw materials and purchasing manufactured items, as well as lending prestige to the motherland and spreading French civilization and language as well as Catholicism. It also provided crucial manpower in both World Wars.\\n\\nIt became a moral justification to lift the world up to French standards by bringing Christianity and French culture. In 1884 the leading exponent of colonialism, Jules Ferry declared France had a civilising mission: \"The higher races have a right over the lower races, they have a duty to civilize the inferior\". Full citizenship rights – ‘’assimilation’’ – were offered, although in reality assimilation was always on the distant horizon. Contrasting from Britain, France sent small numbers of settlers to its colonies, with the only notable exception of Algeria, where French settlers nevertheless always remained a small minority.\\n\\nIn World War II, Charles de Gaulle and the Free French used the overseas colonies as bases from which they fought to liberate France. However after 1945 anti-colonial movements began to challenge the Empire. France fought and lost a bitter war in Vietnam in the 1950s. Whereas they won the war in Algeria, the French leader at the time, Charles de Gaulle, decided to grant Algeria independence anyway in 1962. Its settlers and many local supporters relocated to France. Nearly all of France\\'s colonies gained independence by 1960, but France retained great financial and diplomatic influence. It has repeatedly sent troops to assist its former colonies in Africa in suppressing insurrections and coups d’état.\\n\\nFrom their original homelands in Scandinavia and northern Europe, Germanic tribes expanded throughout northern and western Europe in the middle period of classical antiquity; southern Europe in late antiquity, conquering Celtic and other peoples; and by 800 CE, forming the Holy Roman Empire, the first German Empire. However, there was no real systemic continuity from the Western Roman Empire to its German successor which was famously described as \"not holy, not Roman, and not an empire\", as a great number of small states and principalities existed in the loosely autonomous confederation. Although by 1000 CE, the Germanic conquest of central, western, and southern Europe (west of and including Italy) was complete, excluding only Muslim Iberia. There was, however, little cultural integration or national identity, and \"Germany\" remained largely a conceptual term referring to an amorphous area of central Europe.'),\n",
       " Document(metadata={'source': 'squad.txt'}, page_content='Victoria contains many topographically, geologically and climatically diverse areas, ranging from the wet, temperate climate of Gippsland in the southeast to the snow-covered Victorian alpine areas which rise to almost 2,000 m (6,600 ft), with Mount Bogong the highest peak at 1,986 m (6,516 ft). There are extensive semi-arid plains to the west and northwest. There is an extensive series of river systems in Victoria. Most notable is the Murray River system. Other rivers include: Ovens River, Goulburn River, Patterson River, King River, Campaspe River, Loddon River, Wimmera River, Elgin River, Barwon River, Thomson River, Snowy River, Latrobe River, Yarra River, Maribyrnong River, Mitta River, Hopkins River, Merri River and Kiewa River. The state symbols include the pink heath (state flower), Leadbeater\\'s possum (state animal) and the helmeted honeyeater (state bird).\\n\\nThe Victorian Alps in the northeast are the coldest part of Victoria. The Alps are part of the Great Dividing Range mountain system extending east-west through the centre of Victoria. Average temperatures are less than 9 °C (48 °F) in winter and below 0 °C (32 °F) in the highest parts of the ranges. The state\\'s lowest minimum temperature of −11.7 °C (10.9 °F) was recorded at Omeo on 13 June 1965, and again at Falls Creek on 3 July 1970. Temperature extremes for the state are listed in the table below:\\n\\nRail transport in Victoria is provided by several private and public railway operators who operate over government-owned lines. Major operators include: Metro Trains Melbourne which runs an extensive, electrified, passenger system throughout Melbourne and suburbs; V/Line which is now owned by the Victorian Government, operates a concentrated service to major regional centres, as well as long distance services on other lines; Pacific National, CFCL Australia which operate freight services; Great Southern Rail which operates The Overland Melbourne—Adelaide; and NSW TrainLink which operates XPTs Melbourne—Sydney.\\n\\nPolitically, Victoria has 37 seats in the Australian House of Representatives and 12 seats in the Australian Senate. At state level, the Parliament of Victoria consists of the Legislative Assembly (the lower house) and the Legislative Council (the upper house). Victoria is currently governed by the Labor Party, with Daniel Andrews the current Premier. The personal representative of the Queen of Australia in the state is the Governor of Victoria, currently Linda Dessau. Local government is concentrated in 79 municipal districts, including 33 cities, although a number of unincorporated areas still exist, which are administered directly by the state.\\n\\nOn 1 July 1851, writs were issued for the election of the first Victorian Legislative Council, and the absolute independence of Victoria from New South Wales was established proclaiming a new Colony of Victoria. Days later, still in 1851 gold was discovered near Ballarat, and subsequently at Bendigo. Later discoveries occurred at many sites across Victoria. This triggered one of the largest gold rushes the world has ever seen. The colony grew rapidly in both population and economic power. In ten years the population of Victoria increased sevenfold from 76,000 to 540,000. All sorts of gold records were produced including the \"richest shallow alluvial goldfield in the world\" and the largest gold nugget. Victoria produced in the decade 1851–1860 20 million ounces of gold, one third of the world\\'s output[citation needed].\\n\\nAs of August 2010, Victoria had 1,548 public schools, 489 Catholic schools and 214 independent schools. Just under 540,800 students were enrolled in public schools, and just over 311,800 in private schools. Over 61 per cent of private students attend Catholic schools. More than 462,000 students were enrolled in primary schools and more than 390,000 in secondary schools. Retention rates for the final two years of secondary school were 77 per cent for public school students and 90 per cent for private school students. Victoria has about 63,519 full-time teachers.\\n\\nVictoria is the centre of dairy farming in Australia. It is home to 60% of Australia\\'s 3 million dairy cattle and produces nearly two-thirds of the nation\\'s milk, almost 6.4 billion litres. The state also has 2.4 million beef cattle, with more than 2.2 million cattle and calves slaughtered each year. In 2003–04, Victorian commercial fishing crews and aquaculture industry produced 11,634 tonnes of seafood valued at nearly A$109 million. Blacklipped abalone is the mainstay of the catch, bringing in A$46 million, followed by southern rock lobster worth A$13.7 million. Most abalone and rock lobster is exported to Asia.\\n\\nThere are also several smaller freight operators and numerous tourist railways operating over lines which were once parts of a state-owned system. Victorian lines mainly use the 1,600 mm (5 ft 3 in) broad gauge. However, the interstate trunk routes, as well as a number of branch lines in the west of the state have been converted to 1,435 mm (4 ft 8 1⁄2 in) standard gauge. Two tourist railways operate over 760 mm (2 ft 6 in) narrow gauge lines, which are the remnants of five formerly government-owned lines which were built in mountainous areas.\\n\\nAfter the founding of the colony of New South Wales in 1788, Australia was divided into an eastern half named New South Wales and a western half named New Holland, under the administration of the colonial government in Sydney. The first European settlement in the area later known as Victoria was established in October 1803 under Lieutenant-Governor David Collins at Sullivan Bay on Port Phillip. It consisted of 402 people (5 Government officials, 9 officers of marines, 2 drummers, and 39 privates, 5 soldiers\\' wives, and a child, 307 convicts, 17 convicts\\' wives, and 7 children). They had been sent from England in HMS Calcutta under the command of Captain Daniel Woodriff, principally out of fear that the French, who had been exploring the area, might establish their own settlement and thereby challenge British rights to the continent.\\n\\nIn 1854 at Ballarat there was an armed rebellion against the government of Victoria by miners protesting against mining taxes (the \"Eureka Stockade\"). This was crushed by British troops, but the discontents prompted colonial authorities to reform the administration (particularly reducing the hated mining licence fees) and extend the franchise. Within a short time, the Imperial Parliament granted Victoria responsible government with the passage of the Colony of Victoria Act 1855. Some of the leaders of the Eureka rebellion went on to become members of the Victorian Parliament.\\n\\nThe Premier of Victoria is the leader of the political party or coalition with the most seats in the Legislative Assembly. The Premier is the public face of government and, with cabinet, sets the legislative and political agenda. Cabinet consists of representatives elected to either house of parliament. It is responsible for managing areas of government that are not exclusively the Commonwealth\\'s, by the Australian Constitution, such as education, health and law enforcement. The current Premier of Victoria is Daniel Andrews.\\n\\nDuring 2003–04, the gross value of Victorian agricultural production increased by 17% to $8.7 billion. This represented 24% of national agricultural production total gross value. As of 2004, an estimated 32,463 farms occupied around 136,000 square kilometres (52,500 sq mi) of Victorian land. This comprises more than 60% of the state\\'s total land surface. Victorian farms range from small horticultural outfits to large-scale livestock and grain productions. A quarter of farmland is used to grow consumable crops.\\n\\nMajor events also play a big part in tourism in Victoria, particularly cultural tourism and sports tourism. Most of these events are centred on Melbourne, but others occur in regional cities, such as the V8 Supercars and Australian Motorcycle Grand Prix at Phillip Island, the Grand Annual Steeplechase at Warrnambool and the Australian International Airshow at Geelong and numerous local festivals such as the popular Port Fairy Folk Festival, Queenscliff Music Festival, Bells Beach SurfClassic and the Bright Autumn Festival.\\n\\nHuguenot numbers peaked near an estimated two million by 1562, concentrated mainly in the southern and central parts of France, about one-eighth the number of French Catholics. As Huguenots gained influence and more openly displayed their faith, Catholic hostility grew, in spite of increasingly liberal political concessions and edicts of toleration from the French crown. A series of religious conflicts followed, known as the Wars of Religion, fought intermittently from 1562 to 1598. The wars finally ended with the granting of the Edict of Nantes, which granted the Huguenots substantial religious, political and military autonomy.'),\n",
       " Document(metadata={'source': 'squad.txt'}, page_content='In this last connection, the name could suggest the derogatory inference of superstitious worship; popular fancy held that Huguon, the gate of King Hugo, was haunted by the ghost of le roi Huguet (regarded by Roman Catholics as an infamous scoundrel) and other spirits, who instead of being in Purgatory came back to harm the living at night. It was in this place in Tours that the prétendus réformés (\"these supposedly \\'reformed\\'\") habitually gathered at night, both for political purposes, and for prayer and singing psalms. Such explanations have been traced to the contemporary, Reguier de la Plancha (d. 1560), who in De l\\'Estat de France offered the following account as to the origin of the name, as cited by The Cape Monthly:\\n\\nOther evidence of the Walloons and Huguenots in Canterbury includes a block of houses in Turnagain Lane, where weavers\\' windows survive on the top floor, as many Huguenots worked as weavers. The Weavers, a half-timbered house by the river, was the site of a weaving school from the late 16th century to about 1830. (It has been adapted as a restaurant—see illustration above. The house derives its name from a weaving school which was moved there in the last years of the 19th century, reviving an earlier use.) Others refugees practised the variety of occupations necessary to sustain the community as distinct from the indigenous population. Such economic separation was the condition of the refugees\\' initial acceptance in the City. They also settled elsewhere in Kent, particularly Sandwich, Faversham and Maidstone—towns in which there used to be refugee churches.\\n\\nA number of Huguenots served as mayors in Dublin, Cork, Youghal and Waterford in the 17th and 18th centuries. Numerous signs of Huguenot presence can still be seen with names still in use, and with areas of the main towns and cities named after the people who settled there. Examples include the Huguenot District and French Church Street in Cork City; and D\\'Olier Street in Dublin, named after a High Sheriff and one of the founders of the Bank of Ireland. A French church in Portarlington dates back to 1696, and was built to serve the significant new Huguenot community in the town. At the time, they constituted the majority of the townspeople.\\n\\nThe exodus of Huguenots from France created a brain drain, as many Huguenots had occupied important places in society. The kingdom did not fully recover for years. The French crown\\'s refusal to allow non-Catholics to settle in New France may help to explain that colony\\'s slow rate of population growth compared to that of the neighbouring British colonies, which opened settlement to religious dissenters. By the time of the French and Indian War (the North American front of the Seven Years\\' War), a sizeable population of Huguenot descent lived in the British colonies, and many participated in the British defeat of New France in 1759-60.\\n\\nThe pattern of warfare, followed by brief periods of peace, continued for nearly another quarter-century. The warfare was definitively quelled in 1598, when Henry of Navarre, having succeeded to the French throne as Henry IV, and having recanted Protestantism in favour of Roman Catholicism, issued the Edict of Nantes. The Edict reaffirmed Catholicism as the state religion of France, but granted the Protestants equality with Catholics under the throne and a degree of religious and political freedom within their domains. The Edict simultaneously protected Catholic interests by discouraging the founding of new Protestant churches in Catholic-controlled regions.[citation needed]\\n\\nThe revocation forbade Protestant services, required education of children as Catholics, and prohibited emigration. It proved disastrous to the Huguenots and costly for France. It precipitated civil bloodshed, ruined commerce, and resulted in the illegal flight from the country of hundreds of thousands of Protestants, many of whom became intellectuals, doctors and business leaders in Britain as well as Holland, Prussia, and South Africa. Four thousand emigrated to the North American colonies, where they settled in New York and Virginia, especially. The English welcomed the French refugees, providing money from both government and private agencies to aid their relocation. Those Huguenots who stayed in France became Catholics and were called \"new converts\".\\n\\nThe first Huguenots to leave France sought freedom from persecution in Switzerland and the Netherlands.[citation needed] A group of Huguenots was part of the French colonisers who arrived in Brazil in 1555 to found France Antarctique. A couple of ships with around 500 people arrived at the Guanabara Bay, present-day Rio de Janeiro, and settled in a small island. A fort, named Fort Coligny, was built to protect them from attack from the Portuguese troops and Brazilian Native Americans. It was an attempt to establish a French colony in South America. The fort was destroyed in 1560 by the Portuguese, who captured part of the Huguenots. The Portuguese threatened the prisoners with death if they did not convert to Catholicism. The Huguenots of Guanabara, as they are now known, produced a declaration of faith to express their beliefs to the Portuguese. This was their death sentence. This document, the Guanabara Confession of Faith, became the first Protestant confession of faith in the whole of the Americas.[citation needed]\\n\\nMany of the farms in the Western Cape province in South Africa still bear French names. Many families, today mostly Afrikaans-speaking, have surnames indicating their French Huguenot ancestry. Examples include: Blignaut, Cilliers, de Klerk (Le Clercq), de Villiers, du Plessis, Du Preez (Des Pres), du Randt (Durand), du Toit, Duvenhage(Du Vinage), Franck, Fouche, Fourie (Fleurit), Gervais, Giliomee (Guilliaume), Gous/Gouws (Gauch), Hugo, Jordaan (Jourdan), Joubert, Kriek, Labuschagne (la Buscagne), le Roux, Lombard, Malan, Malherbe, Marais, Maree, Minnaar (Mesnard), Nel (Nell),Naude\\', Nortje (Nortier), Pienaar (Pinard), Retief (Retif), Rossouw (Rousseau), Taljaard (Taillard), TerBlanche, Theron, Viljoen (Villion) and Visagie (Visage). The wine industry in South Africa owes a significant debt to the Huguenots, some of whom had vineyards in France, or were brandy distillers, and used their skills in their new home.\\n\\nPaul Revere was descended from Huguenot refugees, as was Henry Laurens, who signed the Articles of Confederation for South Carolina; Jack Jouett, who made the ride from Cuckoo Tavern to warn Thomas Jefferson and others that Tarleton and his men were on their way to arrest him for crimes against the king; Francis Marion, and a number of other leaders of the American Revolution and later statesmen. The last active Huguenot congregation in North America worships in Charleston, South Carolina, at a church that dates to 1844. The Huguenot Society of America maintains Manakin Episcopal Church in Virginia as an historic shrine with occasional services. The Society has chapters in numerous states, with the one in Texas being the largest.\\n\\nSome Huguenots settled in Bedfordshire, one of the main centres of the British lace industry at the time. Although 19th century sources have asserted that some of these refugees were lacemakers and contributed to the East Midlands lace industry, this is contentious. The only reference to immigrant lacemakers in this period is of twenty-five widows who settled in Dover, and there is no contemporary documentation to support there being Huguenot lacemakers in Bedfordshire. The implication that the style of lace known as \\'Bucks Point\\' demonstrates a Huguenot influence, being a \"combination of Mechlin patterns on Lille ground\", is fallacious: what is now known as Mechlin lace did not develop until first half of the eighteenth century and lace with Mechlin patterns and Lille ground did not appear until the end of the 18th century, when it was widely copied throughout Europe.\\n\\nIn Berlin, the Huguenots created two new neighbourhoods: Dorotheenstadt and Friedrichstadt. By 1700, one-fifth of the city\\'s population was French speaking. The Berlin Huguenots preserved the French language in their church services for nearly a century. They ultimately decided to switch to German in protest against the occupation of Prussia by Napoleon in 1806-07. Many of their descendents rose to positions of prominence. Several congregations were founded, such as those of Fredericia (Denmark), Berlin, Stockholm, Hamburg, Frankfurt, Helsinki, and Emden.\\n\\nAfter this, Huguenots (with estimates ranging from 200,000 to 1,000,000) fled to surrounding Protestant countries: England, the Netherlands, Switzerland, Norway, Denmark, and Prussia — whose Calvinist Great Elector Frederick William welcomed them to help rebuild his war-ravaged and underpopulated country. Following this exodus, Huguenots remained in large numbers in only one region of France: the rugged Cévennes region in the south. In the early 18th century, a regional group known as the Camisards who were Huguenots rioted against the Catholic Church in the region, burning churches and killing clergy. It took French troops years to hunt down and destroy all the bands of Camisards, between 1702 and 1709.\\n\\nIn 1564 a group of Norman Huguenots under the leadership of Jean Ribault established the small colony of Fort Caroline on the banks of the St. Johns River in what is today Jacksonville, Florida. The effort was the first at any permanent European settlement in the present-day continental United States, but survived only a short time. A September 1565 French naval attack against the new Spanish colony at St. Augustine failed when its ships were hit by a hurricane on their way to the Spanish encampment at Fort Matanzas. Hundreds of French soldiers were stranded and surrendered to the numerically inferior Spanish forces led by Pedro Menendez. Menendez proceeded to massacre the defenseless Huguenots, after which he wiped out the Fort Caroline garrison.')]"
      ]
     },
     "execution_count": 116,
     "metadata": {},
     "output_type": "execute_result"
    }
   ],
   "source": [
    "retriever = vectorstore.as_retriever()\n",
    "retriever.invoke(\"Normans\")"
   ]
  },
  {
   "cell_type": "code",
   "execution_count": 119,
   "metadata": {},
   "outputs": [],
   "source": [
    "from operator import itemgetter\n",
    "\n",
    "chain = (\n",
    "    {\n",
    "        \"context\": itemgetter(\"question\") | retriever,\n",
    "        \"question\": itemgetter(\"question\"),\n",
    "    }\n",
    "    | prompt\n",
    "    | model\n",
    "    | parser\n",
    ")"
   ]
  },
  {
   "cell_type": "code",
   "execution_count": 120,
   "metadata": {},
   "outputs": [
    {
     "name": "stdout",
     "output_type": "stream",
     "text": [
      "Answer: The context does not provide any information about Normans, so I cannot answer this question from the provided context.\n"
     ]
    }
   ],
   "source": [
    "question = \"\"\" Who are Normans?\n",
    "\"\"\"\n",
    "print(f\"Answer: {chain.invoke({'question': question})}\")"
   ]
  },
  {
   "cell_type": "markdown",
   "metadata": {},
   "source": [
    "## Test"
   ]
  },
  {
   "cell_type": "code",
   "execution_count": 174,
   "metadata": {},
   "outputs": [
    {
     "data": {
      "text/plain": [
       "[Document(metadata={'source': 'privacy policy.pdf', 'page': 0}, page_content='GOOGLE PRIVACY POLICY\\nWhen you use our services, you’re trusting us\\nwith your information. We understand this is a big\\nresponsibility and work hard to protect your\\ninformation and put you in control.\\nThis Priv acy P olicy is meant t o help y ou understand what information we collect, why we\\ncollect it, and how y ou can update, manage, expor t, and delete y our information.\\nPrivacy Checkup\\nLooking t o change y our priv acy settings?\\nTake the Priv acy Checkup\\nEffectiv e September 16, 2024 | Archived versions9/18/24, 10:49 PM Privacy Policy – Privacy & Terms – Google\\nhttps://policies.google.com/privacy?hl=en-US 1/51'),\n",
       " Document(metadata={'source': 'privacy policy.pdf', 'page': 1}, page_content='We build a r ange of ser vices that help millions of people daily t o explor e and inter act with\\nthe world in new wa ys. Our ser vices include:\\nGoogle apps, sites, and de vices, lik e Sear ch, Y ouTube, and Google Home\\nPlatforms lik e the Chr ome br owser and Andr oid oper ating system\\nProducts that ar e integr ated int o thir d-par ty apps and sites, lik e ads, analytics, and\\nembedded Google Maps\\nYou can use our ser vices in a v ariety of wa ys to manage y our priv acy. For example, y ou\\ncan sign up for a Google Account if y ou want t o create and manage content lik e emails\\nand phot os, or see mor e relevant sear ch results. And y ou can use many Google ser vices\\nwhen y ou’re signed out or without cr eating an account at all, lik e sear ching on Google or\\nwatching Y ouTube videos. Y ou can also choose t o browse the web in a priv ate mode, lik e\\nChrome Incognit o mode, which helps k eep y our br owsing priv ate fr om other people who\\nuse y our de vice. And acr oss our ser vices, y ou can adjust y our priv acy settings t o contr ol\\nwhether we collect some types of data and how we use it.\\nTo help explain things as clearly as possible, we ’ve added examples, explanat ory videos,\\nand de\\x00nitions for key terms . And if y ou ha ve any questions about this Priv acy P olicy ,\\nyou can contact us .9/18/24, 10:49 PM Privacy Policy – Privacy & Terms – Google\\nhttps://policies.google.com/privacy?hl=en-US 2/51'),\n",
       " Document(metadata={'source': 'privacy policy.pdf', 'page': 2}, page_content='INFORMATION GOOGLE COLLECTS\\nWe want you to understand the types of\\ninformation we collect as you use our services\\nWe collect information t o provide better ser vices t o all our users — fr om \\x00guring out\\nbasic stuff lik e which language y ou speak, t o mor e complex things lik e which ads y ou’ll\\n\\x00nd most useful , the people who matter most t o you online , or which Y ouTube videos y ou\\nmight lik e. The information Google collects, and how that information is used, depends\\non how y ou use our ser vices and how y ou manage y our priv acy contr ols.\\nWhen y ou’re not signed in t o a Google Account, we st ore the information we collect with\\nunique identi\\x00ers  tied t o the br owser , application, or device you’re using. This allows us\\nto do things lik e maintain y our pr eferences acr oss br owsing sessions, such as y our\\npreferred language or whether t o show y ou mor e relevant sear ch results or ads based on\\nyour activity .\\nWhen y ou’re signed in, we also collect information that we st ore with y our Google\\nAccount, which we tr eat as personal information .\\nThings you create or provide to us\\nWhen y ou cr eate a Google Account, y ou pr ovide us with personal information  that\\nincludes y our name and a passwor d. You can also choose t o add a phone number  or\\npayment information  to your account. E ven if y ou ar en’t signed in t o a Google Account,9/18/24, 10:49 PM Privacy Policy – Privacy & Terms – Google\\nhttps://policies.google.com/privacy?hl=en-US 3/51'),\n",
       " Document(metadata={'source': 'privacy policy.pdf', 'page': 3}, page_content='you might choose t o provide us with information — lik e an email addr ess t o\\ncommunicate with Google or r eceiv e updates about our ser vices.\\nWe also collect the content y ou cr eate, upload, or r eceiv e from others when using our\\nservices. This includes things lik e email y ou write and r eceiv e, phot os and videos y ou\\nsave, docs and spr eadsheets y ou cr eate, and comments y ou mak e on Y ouTube videos.\\nInformation we collect as you use our services\\nYour apps, browsers & devices\\nWe collect information about the apps, br owsers, and devices  you use t o access Google\\nservices, which helps us pr ovide f eatur es lik e aut omatic pr oduct updates and dimming\\nyour scr een if y our batter y runs low .\\nThe information we collect includes unique identi\\x00ers , browser type and settings, de vice\\ntype and settings, oper ating system, mobile network information including carrier name\\nand phone number , and application v ersion number . We also collect information about\\nthe inter action of y our apps, br owsers, and de vices with our ser vices, including IP\\naddr ess, crash r epor ts, system activity , and the date, time, and referrer URL  of y our\\nrequest.\\nWe collect this information when a Google ser vice on y our de vice contacts our ser vers —\\nfor example, when y ou install an app fr om the Pla y Store or when a ser vice checks for\\nautomatic updates. If y ou’re using an Andr oid de vice with Google apps , your de vice\\nperiodically contacts Google ser vers t o provide information about y our de vice and9/18/24, 10:49 PM Privacy Policy – Privacy & Terms – Google\\nhttps://policies.google.com/privacy?hl=en-US 4/51'),\n",
       " Document(metadata={'source': 'privacy policy.pdf', 'page': 4}, page_content=\"connection t o our ser vices. This information includes things lik e your device type and\\ncarrier name , crash r epor ts, which apps y ou've installed, and, depending on y our de vice\\nsettings, other information about how y ou’re using y our Andr oid de vice.\\nYour activity\\nWe collect information about y our activity in our ser vices, which we use t o do things lik e\\nrecommend a Y ouTube video y ou might lik e. The activity information we collect ma y\\ninclude:\\nTerms y ou sear ch for\\nVideos y ou watch\\nViews and inter actions with content and ads\\nVoice and audio information\\nPurchase activity\\nPeople with whom y ou communicate or shar e content\\nActivity on thir d-par ty sites and apps that use our ser vices\\nChrome br owsing hist ory you’ve synced with y our Google Account\\nIf you use our services t o mak e and r eceiv e calls or send and r eceiv e messages , we ma y\\ncollect call and message log information lik e your phone number , calling-par ty number ,9/18/24, 10:49 PM Privacy Policy – Privacy & Terms – Google\\nhttps://policies.google.com/privacy?hl=en-US 5/51\"),\n",
       " Document(metadata={'source': 'privacy policy.pdf', 'page': 5}, page_content='receiving-par ty number , forwarding numbers, sender and r ecipient email addr ess, time\\nand date of calls and messages, dur ation of calls, r outing information, and types and\\nvolumes of calls and messages.\\nYou can visit y our Google Account t o \\x00nd and manage activity information that’ s saved in\\nyour account.\\nGo to Google Account\\nYour location information\\nWe collect location information when y ou use our ser vices, which helps us off er featur es\\nlike driving dir ections, sear ch results for things near y ou, and ads based on y our location.\\nDepending on the pr oducts y ou’re using and settings y ou choose, Google ma y use\\ndifferent types of location information t o help mak e some ser vices and pr oducts y ou use\\nmore helpful. These include:\\nGPS and other sensor data fr om y our de vice\\nIP addr ess\\nActivity on Google ser vices , such as fr om y our sear ches or places y ou label lik e\\nhome or work9/18/24, 10:49 PM Privacy Policy – Privacy & Terms – Google\\nhttps://policies.google.com/privacy?hl=en-US 6/51')]"
      ]
     },
     "execution_count": 174,
     "metadata": {},
     "output_type": "execute_result"
    }
   ],
   "source": [
    "from langchain_community.document_loaders import PyPDFLoader\n",
    "\n",
    "loader = PyPDFLoader(\"privacy policy.pdf\")\n",
    "pages = loader.load_and_split()\n",
    "pages"
   ]
  },
  {
   "cell_type": "code",
   "execution_count": 175,
   "metadata": {},
   "outputs": [],
   "source": [
    "from langchain_community.vectorstores import DocArrayInMemorySearch # type: ignore\n",
    "\n",
    "vectorstore = DocArrayInMemorySearch.from_documents(pages, embedding=embeddings)"
   ]
  },
  {
   "cell_type": "code",
   "execution_count": 176,
   "metadata": {},
   "outputs": [
    {
     "data": {
      "text/plain": [
       "[Document(metadata={'source': 'privacy policy.pdf', 'page': 2}, page_content='INFORMATION GOOGLE COLLECTS\\nWe want you to understand the types of\\ninformation we collect as you use our services\\nWe collect information t o provide better ser vices t o all our users — fr om \\x00guring out\\nbasic stuff lik e which language y ou speak, t o mor e complex things lik e which ads y ou’ll\\n\\x00nd most useful , the people who matter most t o you online , or which Y ouTube videos y ou\\nmight lik e. The information Google collects, and how that information is used, depends\\non how y ou use our ser vices and how y ou manage y our priv acy contr ols.\\nWhen y ou’re not signed in t o a Google Account, we st ore the information we collect with\\nunique identi\\x00ers  tied t o the br owser , application, or device you’re using. This allows us\\nto do things lik e maintain y our pr eferences acr oss br owsing sessions, such as y our\\npreferred language or whether t o show y ou mor e relevant sear ch results or ads based on\\nyour activity .\\nWhen y ou’re signed in, we also collect information that we st ore with y our Google\\nAccount, which we tr eat as personal information .\\nThings you create or provide to us\\nWhen y ou cr eate a Google Account, y ou pr ovide us with personal information  that\\nincludes y our name and a passwor d. You can also choose t o add a phone number  or\\npayment information  to your account. E ven if y ou ar en’t signed in t o a Google Account,9/18/24, 10:49 PM Privacy Policy – Privacy & Terms – Google\\nhttps://policies.google.com/privacy?hl=en-US 3/51'),\n",
       " Document(metadata={'source': 'privacy policy.pdf', 'page': 5}, page_content='receiving-par ty number , forwarding numbers, sender and r ecipient email addr ess, time\\nand date of calls and messages, dur ation of calls, r outing information, and types and\\nvolumes of calls and messages.\\nYou can visit y our Google Account t o \\x00nd and manage activity information that’ s saved in\\nyour account.\\nGo to Google Account\\nYour location information\\nWe collect location information when y ou use our ser vices, which helps us off er featur es\\nlike driving dir ections, sear ch results for things near y ou, and ads based on y our location.\\nDepending on the pr oducts y ou’re using and settings y ou choose, Google ma y use\\ndifferent types of location information t o help mak e some ser vices and pr oducts y ou use\\nmore helpful. These include:\\nGPS and other sensor data fr om y our de vice\\nIP addr ess\\nActivity on Google ser vices , such as fr om y our sear ches or places y ou label lik e\\nhome or work9/18/24, 10:49 PM Privacy Policy – Privacy & Terms – Google\\nhttps://policies.google.com/privacy?hl=en-US 6/51'),\n",
       " Document(metadata={'source': 'privacy policy.pdf', 'page': 3}, page_content='you might choose t o provide us with information — lik e an email addr ess t o\\ncommunicate with Google or r eceiv e updates about our ser vices.\\nWe also collect the content y ou cr eate, upload, or r eceiv e from others when using our\\nservices. This includes things lik e email y ou write and r eceiv e, phot os and videos y ou\\nsave, docs and spr eadsheets y ou cr eate, and comments y ou mak e on Y ouTube videos.\\nInformation we collect as you use our services\\nYour apps, browsers & devices\\nWe collect information about the apps, br owsers, and devices  you use t o access Google\\nservices, which helps us pr ovide f eatur es lik e aut omatic pr oduct updates and dimming\\nyour scr een if y our batter y runs low .\\nThe information we collect includes unique identi\\x00ers , browser type and settings, de vice\\ntype and settings, oper ating system, mobile network information including carrier name\\nand phone number , and application v ersion number . We also collect information about\\nthe inter action of y our apps, br owsers, and de vices with our ser vices, including IP\\naddr ess, crash r epor ts, system activity , and the date, time, and referrer URL  of y our\\nrequest.\\nWe collect this information when a Google ser vice on y our de vice contacts our ser vers —\\nfor example, when y ou install an app fr om the Pla y Store or when a ser vice checks for\\nautomatic updates. If y ou’re using an Andr oid de vice with Google apps , your de vice\\nperiodically contacts Google ser vers t o provide information about y our de vice and9/18/24, 10:49 PM Privacy Policy – Privacy & Terms – Google\\nhttps://policies.google.com/privacy?hl=en-US 4/51'),\n",
       " Document(metadata={'source': 'privacy policy.pdf', 'page': 4}, page_content=\"connection t o our ser vices. This information includes things lik e your device type and\\ncarrier name , crash r epor ts, which apps y ou've installed, and, depending on y our de vice\\nsettings, other information about how y ou’re using y our Andr oid de vice.\\nYour activity\\nWe collect information about y our activity in our ser vices, which we use t o do things lik e\\nrecommend a Y ouTube video y ou might lik e. The activity information we collect ma y\\ninclude:\\nTerms y ou sear ch for\\nVideos y ou watch\\nViews and inter actions with content and ads\\nVoice and audio information\\nPurchase activity\\nPeople with whom y ou communicate or shar e content\\nActivity on thir d-par ty sites and apps that use our ser vices\\nChrome br owsing hist ory you’ve synced with y our Google Account\\nIf you use our services t o mak e and r eceiv e calls or send and r eceiv e messages , we ma y\\ncollect call and message log information lik e your phone number , calling-par ty number ,9/18/24, 10:49 PM Privacy Policy – Privacy & Terms – Google\\nhttps://policies.google.com/privacy?hl=en-US 5/51\")]"
      ]
     },
     "execution_count": 176,
     "metadata": {},
     "output_type": "execute_result"
    }
   ],
   "source": [
    "retriever = vectorstore.as_retriever()\n",
    "retriever.invoke(\"information\")"
   ]
  },
  {
   "cell_type": "code",
   "execution_count": 178,
   "metadata": {},
   "outputs": [],
   "source": [
    "from operator import itemgetter\n",
    "\n",
    "chain = (\n",
    "    {\n",
    "        \"context\": itemgetter(\"question\") | retriever,\n",
    "        \"question\": itemgetter(\"question\"),\n",
    "    }\n",
    "    | prompt\n",
    "    | model\n",
    "    | parser\n",
    ")"
   ]
  },
  {
   "cell_type": "code",
   "execution_count": 180,
   "metadata": {},
   "outputs": [
    {
     "name": "stdout",
     "output_type": "stream",
     "text": [
      "Answer: Sure, here's a summary of the information that Google collects from users:\n",
      "\n",
      "- Personal information such as name, email address, and password.\n",
      "- Location information such as IP address, device type, and carrier name.\n",
      "- Activity information such as search queries, videos watched, and communications made.\n",
      "- Purchase history.\n",
      "- People with whom users communicate or share content.\n",
      "- Call and message log information.\n"
     ]
    }
   ],
   "source": [
    "question = \"\"\" What information does google collects?\n",
    "\"\"\"\n",
    "print(f\"Answer: {chain.invoke({'question': question})}\")"
   ]
  },
  {
   "cell_type": "markdown",
   "metadata": {},
   "source": [
    "# Pinecone testing"
   ]
  },
  {
   "cell_type": "code",
   "execution_count": 186,
   "metadata": {},
   "outputs": [],
   "source": [
    "PINECONE_API_KEY=\"c6fa525d-b0e7-4854-9da4-786254c1611c\"\n",
    "from pinecone import Pinecone, ServerlessSpec\n",
    "\n",
    "pc = Pinecone(api_key=PINECONE_API_KEY)"
   ]
  },
  {
   "cell_type": "code",
   "execution_count": 187,
   "metadata": {},
   "outputs": [],
   "source": [
    "\n",
    "index_name = \"quickstart\"\n",
    "\n",
    "pc.create_index(\n",
    "    name=index_name,\n",
    "    dimension=1024, # Replace with your model dimensions\n",
    "    metric=\"cosine\", # Replace with your model metric\n",
    "    spec=ServerlessSpec(\n",
    "        cloud=\"aws\",\n",
    "        region=\"us-east-1\"\n",
    "    ) \n",
    ")"
   ]
  },
  {
   "cell_type": "code",
   "execution_count": 188,
   "metadata": {},
   "outputs": [
    {
     "name": "stdout",
     "output_type": "stream",
     "text": [
      "{'values': [0.04913330078125, -0.0131988525390625, ..., -0.0196990966796875, -0.011016845703125]}\n"
     ]
    }
   ],
   "source": [
    "data = [\n",
    "    {\"id\": \"vec1\", \"text\": \"Apple is a popular fruit known for its sweetness and crisp texture.\"},\n",
    "    {\"id\": \"vec2\", \"text\": \"The tech company Apple is known for its innovative products like the iPhone.\"},\n",
    "    {\"id\": \"vec3\", \"text\": \"Many people enjoy eating apples as a healthy snack.\"},\n",
    "    {\"id\": \"vec4\", \"text\": \"Apple Inc. has revolutionized the tech industry with its sleek designs and user-friendly interfaces.\"},\n",
    "    {\"id\": \"vec5\", \"text\": \"An apple a day keeps the doctor away, as the saying goes.\"},\n",
    "    {\"id\": \"vec6\", \"text\": \"Apple Computer Company was founded on April 1, 1976, by Steve Jobs, Steve Wozniak, and Ronald Wayne as a partnership.\"}\n",
    "]\n",
    "\n",
    "embeddings = pc.inference.embed(\n",
    "    model=\"multilingual-e5-large\",\n",
    "    inputs=[d['text'] for d in data],\n",
    "    parameters={\"input_type\": \"passage\", \"truncate\": \"END\"}\n",
    ")\n",
    "print(embeddings[0])"
   ]
  },
  {
   "cell_type": "code",
   "execution_count": 189,
   "metadata": {},
   "outputs": [
    {
     "data": {
      "text/plain": [
       "{'upserted_count': 6}"
      ]
     },
     "execution_count": 189,
     "metadata": {},
     "output_type": "execute_result"
    }
   ],
   "source": [
    "# Wait for the index to be ready\n",
    "while not pc.describe_index(index_name).status['ready']:\n",
    "    time.sleep(1)\n",
    "\n",
    "index = pc.Index(index_name)\n",
    "\n",
    "vectors = []\n",
    "for d, e in zip(data, embeddings):\n",
    "    vectors.append({\n",
    "        \"id\": d['id'],\n",
    "        \"values\": e['values'],\n",
    "        \"metadata\": {'text': d['text']}\n",
    "    })\n",
    "\n",
    "index.upsert(\n",
    "    vectors=vectors,\n",
    "    namespace=\"ns1\"\n",
    ")"
   ]
  },
  {
   "cell_type": "code",
   "execution_count": 190,
   "metadata": {},
   "outputs": [
    {
     "name": "stdout",
     "output_type": "stream",
     "text": [
      "{'dimension': 1024,\n",
      " 'index_fullness': 0.0,\n",
      " 'namespaces': {'ns1': {'vector_count': 6}},\n",
      " 'total_vector_count': 6}\n"
     ]
    }
   ],
   "source": [
    "print(index.describe_index_stats())"
   ]
  },
  {
   "cell_type": "code",
   "execution_count": 191,
   "metadata": {},
   "outputs": [],
   "source": [
    "query = \"Tell me about the tech company known as Apple.\"\n",
    "\n",
    "embedding = pc.inference.embed(\n",
    "    model=\"multilingual-e5-large\",\n",
    "    inputs=[query],\n",
    "    parameters={\n",
    "        \"input_type\": \"query\"\n",
    "    }\n",
    ")"
   ]
  },
  {
   "cell_type": "code",
   "execution_count": 192,
   "metadata": {},
   "outputs": [
    {
     "name": "stdout",
     "output_type": "stream",
     "text": [
      "{'matches': [{'id': 'vec2',\n",
      "              'metadata': {'text': 'The tech company Apple is known for its '\n",
      "                                   'innovative products like the iPhone.'},\n",
      "              'score': 0.861149192,\n",
      "              'values': []},\n",
      "             {'id': 'vec6',\n",
      "              'metadata': {'text': 'Apple Computer Company was founded on '\n",
      "                                   'April 1, 1976, by Steve Jobs, Steve '\n",
      "                                   'Wozniak, and Ronald Wayne as a '\n",
      "                                   'partnership.'},\n",
      "              'score': 0.846173108,\n",
      "              'values': []},\n",
      "             {'id': 'vec4',\n",
      "              'metadata': {'text': 'Apple Inc. has revolutionized the tech '\n",
      "                                   'industry with its sleek designs and '\n",
      "                                   'user-friendly interfaces.'},\n",
      "              'score': 0.841096759,\n",
      "              'values': []}],\n",
      " 'namespace': 'ns1',\n",
      " 'usage': {'read_units': 6}}\n"
     ]
    }
   ],
   "source": [
    "results = index.query(\n",
    "    namespace=\"ns1\",\n",
    "    vector=embedding[0].values,\n",
    "    top_k=3,\n",
    "    include_values=False,\n",
    "    include_metadata=True\n",
    ")\n",
    "\n",
    "print(results)"
   ]
  }
 ],
 "metadata": {
  "kernelspec": {
   "display_name": "myvenv",
   "language": "python",
   "name": "python3"
  },
  "language_info": {
   "codemirror_mode": {
    "name": "ipython",
    "version": 3
   },
   "file_extension": ".py",
   "mimetype": "text/x-python",
   "name": "python",
   "nbconvert_exporter": "python",
   "pygments_lexer": "ipython3",
   "version": "3.12.3"
  }
 },
 "nbformat": 4,
 "nbformat_minor": 2
}
