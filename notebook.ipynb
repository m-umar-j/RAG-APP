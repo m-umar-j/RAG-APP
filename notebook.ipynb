{
 "cells": [
  {
   "cell_type": "code",
   "execution_count": 21,
   "metadata": {},
   "outputs": [],
   "source": [
    "import os\n",
    "from dotenv import load_dotenv\n",
    "\n",
    "load_dotenv()\n",
    "\n",
    "PINECONE_API_KEY = os.getenv(\"PINECONE_API_KEY\")\n",
    "# MODEL = \"gpt-3.5-turbo\"\n",
    "MODEL = \"llama3.1\"\n"
   ]
  },
  {
   "cell_type": "code",
   "execution_count": 22,
   "metadata": {},
   "outputs": [],
   "source": [
    "from langchain_community.llms import Ollama # type: ignore\n",
    "#from langchain_openai.chat_models import ChatOpenAI\n",
    "from langchain_community.embeddings import OllamaEmbeddings\n",
    "#from langchain_openai.embeddings import OpenAIEmbeddings\n",
    "\n",
    "model = Ollama(model=MODEL)\n",
    "embeddings = OllamaEmbeddings(model='mxbai-embed-large')\n",
    "\n",
    "#model.invoke(\"Who was Napolean\")"
   ]
  },
  {
   "cell_type": "code",
   "execution_count": 3,
   "metadata": {},
   "outputs": [],
   "source": [
    "from langchain_core.output_parsers import StrOutputParser # type: ignore\n",
    "\n",
    "parser = StrOutputParser()\n",
    "\n",
    "chain = model | parser \n",
    "#chain.invoke(\"Who was Napoleon?\")"
   ]
  },
  {
   "cell_type": "code",
   "execution_count": 4,
   "metadata": {},
   "outputs": [
    {
     "data": {
      "text/plain": [
       "'\\nAnswer the question based on the context below. If you can\\'t \\nanswer the question, reply \"I don\\'t know\".\\n\\nContext: Here is some context\\n\\nQuestion: Here is a question\\n'"
      ]
     },
     "execution_count": 4,
     "metadata": {},
     "output_type": "execute_result"
    }
   ],
   "source": [
    "from langchain.prompts import PromptTemplate # type: ignore\n",
    "\n",
    "template = \"\"\"\n",
    "Answer the question based on the context below. If you can't \n",
    "answer the question, reply \"I don't know\".\n",
    "\n",
    "Context: {context}\n",
    "\n",
    "Question: {question}\n",
    "\"\"\"\n",
    "\n",
    "prompt = PromptTemplate.from_template(template)\n",
    "prompt.format(context=\"Here is some context\", question=\"Here is a question\")"
   ]
  },
  {
   "cell_type": "code",
   "execution_count": 24,
   "metadata": {},
   "outputs": [
    {
     "data": {
      "text/plain": [
       "'Your name is Umar.'"
      ]
     },
     "execution_count": 24,
     "metadata": {},
     "output_type": "execute_result"
    }
   ],
   "source": [
    "chain = prompt | model | parser\n",
    "\n",
    "chain.invoke({\"context\": \"My parents named me Umar\", \"question\": \"What's my name'?\"})"
   ]
  },
  {
   "cell_type": "code",
   "execution_count": null,
   "metadata": {},
   "outputs": [],
   "source": [
    "import json\n",
    "from pathlib import Path\n",
    "from pprint import pprint\n",
    "from langchain_community.document_loaders import JSONLoader\n",
    "\n",
    "\n",
    "file_path='dev-v2.0.json'\n",
    "data = json.loads(Path(file_path).read_text())\n",
    "pprint(data)\n"
   ]
  },
  {
   "cell_type": "code",
   "execution_count": null,
   "metadata": {},
   "outputs": [],
   "source": [
    "from langchain.schema import Document\n",
    "\n",
    "def create_documents(squad_data):\n",
    "    documents = []\n",
    "    for entry in squad_data['data']:\n",
    "        for paragraph in entry['paragraphs']:\n",
    "            context = paragraph['context']\n",
    "            \n",
    "            documents.append(Document(page_content=context))\n",
    "    return documents\n",
    "\n",
    "documents = create_documents(data)"
   ]
  },
  {
   "cell_type": "code",
   "execution_count": null,
   "metadata": {},
   "outputs": [],
   "source": [
    "# Save the combined context and question into a text file\n",
    "def save_documents_to_txt(documents, file_name):\n",
    "    with open(file_name, 'w', encoding='utf-8') as file:\n",
    "        for document in documents:\n",
    "            file.write(document.page_content + \"\\n\\n\")\n",
    "\n",
    "# Call the function to save the documents\n",
    "save_documents_to_txt(documents, \"squad.txt\")\n"
   ]
  },
  {
   "cell_type": "code",
   "execution_count": 114,
   "metadata": {},
   "outputs": [],
   "source": [
    "from langchain_community.document_loaders import TextLoader\n",
    "from langchain_text_splitters import CharacterTextSplitter\n",
    "documents = TextLoader(\"squad.txt\").load()\n",
    "text_splitter = CharacterTextSplitter(chunk_size=10000, chunk_overlap=10)\n",
    "docs = text_splitter.split_documents(documents)\n",
    "\n"
   ]
  },
  {
   "cell_type": "code",
   "execution_count": 115,
   "metadata": {},
   "outputs": [],
   "source": [
    "from langchain_community.vectorstores import DocArrayInMemorySearch # type: ignore\n",
    "\n",
    "vectorstore = DocArrayInMemorySearch.from_documents(docs, embedding=embeddings)"
   ]
  },
  {
   "cell_type": "code",
   "execution_count": null,
   "metadata": {},
   "outputs": [],
   "source": [
    "retriever = vectorstore.as_retriever()\n",
    "retriever.invoke(\"Normans\")"
   ]
  },
  {
   "cell_type": "code",
   "execution_count": 119,
   "metadata": {},
   "outputs": [],
   "source": [
    "from operator import itemgetter\n",
    "\n",
    "chain = (\n",
    "    {\n",
    "        \"context\": itemgetter(\"question\") | retriever,\n",
    "        \"question\": itemgetter(\"question\"),\n",
    "    }\n",
    "    | prompt\n",
    "    | model\n",
    "    | parser\n",
    ")"
   ]
  },
  {
   "cell_type": "code",
   "execution_count": null,
   "metadata": {},
   "outputs": [],
   "source": [
    "question = \"\"\" Who are Normans?\n",
    "\"\"\"\n",
    "print(f\"Answer: {chain.invoke({'question': question})}\")"
   ]
  },
  {
   "cell_type": "markdown",
   "metadata": {},
   "source": [
    "## Test"
   ]
  },
  {
   "cell_type": "code",
   "execution_count": 33,
   "metadata": {},
   "outputs": [
    {
     "data": {
      "text/plain": [
       "[Document(metadata={'source': 'data/privacy policy.pdf', 'page': 0}, page_content='GOOGLE PRIVACY POLICY\\nWhen you use our services, you’re trusting us\\nwith your information. We understand this is a big\\nresponsibility and work hard to protect your\\ninformation and put you in control.\\nThis Priv acy P olicy is meant t o help y ou understand what information we collect, why we\\ncollect it, and how y ou can update, manage, expor t, and delete y our information.\\nPrivacy Checkup\\nLooking t o change y our priv acy settings?\\nTake the Priv acy Checkup\\nEffectiv e September 16, 2024 | Archived versions9/18/24, 10:49 PM Privacy Policy – Privacy & Terms – Google\\nhttps://policies.google.com/privacy?hl=en-US 1/51'),\n",
       " Document(metadata={'source': 'data/privacy policy.pdf', 'page': 1}, page_content='We build a r ange of ser vices that help millions of people daily t o explor e and inter act with\\nthe world in new wa ys. Our ser vices include:\\nGoogle apps, sites, and de vices, lik e Sear ch, Y ouTube, and Google Home\\nPlatforms lik e the Chr ome br owser and Andr oid oper ating system\\nProducts that ar e integr ated int o thir d-par ty apps and sites, lik e ads, analytics, and\\nembedded Google Maps\\nYou can use our ser vices in a v ariety of wa ys to manage y our priv acy. For example, y ou\\ncan sign up for a Google Account if y ou want t o create and manage content lik e emails\\nand phot os, or see mor e relevant sear ch results. And y ou can use many Google ser vices\\nwhen y ou’re signed out or without cr eating an account at all, lik e sear ching on Google or\\nwatching Y ouTube videos. Y ou can also choose t o browse the web in a priv ate mode, lik e\\nChrome Incognit o mode, which helps k eep y our br owsing priv ate fr om other people who\\nuse y our de vice. And acr oss our ser vices, y ou can adjust y our priv acy settings t o contr ol\\nwhether we collect some types of data and how we use it.\\nTo help explain things as clearly as possible, we ’ve added examples, explanat ory videos,\\nand de\\x00nitions for key terms . And if y ou ha ve any questions about this Priv acy P olicy ,\\nyou can contact us .9/18/24, 10:49 PM Privacy Policy – Privacy & Terms – Google\\nhttps://policies.google.com/privacy?hl=en-US 2/51'),\n",
       " Document(metadata={'source': 'data/privacy policy.pdf', 'page': 2}, page_content='INFORMATION GOOGLE COLLECTS\\nWe want you to understand the types of\\ninformation we collect as you use our services\\nWe collect information t o provide better ser vices t o all our users — fr om \\x00guring out\\nbasic stuff lik e which language y ou speak, t o mor e complex things lik e which ads y ou’ll\\n\\x00nd most useful , the people who matter most t o you online , or which Y ouTube videos y ou\\nmight lik e. The information Google collects, and how that information is used, depends\\non how y ou use our ser vices and how y ou manage y our priv acy contr ols.\\nWhen y ou’re not signed in t o a Google Account, we st ore the information we collect with\\nunique identi\\x00ers  tied t o the br owser , application, or device you’re using. This allows us\\nto do things lik e maintain y our pr eferences acr oss br owsing sessions, such as y our\\npreferred language or whether t o show y ou mor e relevant sear ch results or ads based on\\nyour activity .\\nWhen y ou’re signed in, we also collect information that we st ore with y our Google\\nAccount, which we tr eat as personal information .\\nThings you create or provide to us\\nWhen y ou cr eate a Google Account, y ou pr ovide us with personal information  that\\nincludes y our name and a passwor d. You can also choose t o add a phone number  or\\npayment information  to your account. E ven if y ou ar en’t signed in t o a Google Account,9/18/24, 10:49 PM Privacy Policy – Privacy & Terms – Google\\nhttps://policies.google.com/privacy?hl=en-US 3/51'),\n",
       " Document(metadata={'source': 'data/privacy policy.pdf', 'page': 3}, page_content='you might choose t o provide us with information — lik e an email addr ess t o\\ncommunicate with Google or r eceiv e updates about our ser vices.\\nWe also collect the content y ou cr eate, upload, or r eceiv e from others when using our\\nservices. This includes things lik e email y ou write and r eceiv e, phot os and videos y ou\\nsave, docs and spr eadsheets y ou cr eate, and comments y ou mak e on Y ouTube videos.\\nInformation we collect as you use our services\\nYour apps, browsers & devices\\nWe collect information about the apps, br owsers, and devices  you use t o access Google\\nservices, which helps us pr ovide f eatur es lik e aut omatic pr oduct updates and dimming\\nyour scr een if y our batter y runs low .\\nThe information we collect includes unique identi\\x00ers , browser type and settings, de vice\\ntype and settings, oper ating system, mobile network information including carrier name\\nand phone number , and application v ersion number . We also collect information about\\nthe inter action of y our apps, br owsers, and de vices with our ser vices, including IP\\naddr ess, crash r epor ts, system activity , and the date, time, and referrer URL  of y our\\nrequest.\\nWe collect this information when a Google ser vice on y our de vice contacts our ser vers —\\nfor example, when y ou install an app fr om the Pla y Store or when a ser vice checks for\\nautomatic updates. If y ou’re using an Andr oid de vice with Google apps , your de vice\\nperiodically contacts Google ser vers t o provide information about y our de vice and9/18/24, 10:49 PM Privacy Policy – Privacy & Terms – Google\\nhttps://policies.google.com/privacy?hl=en-US 4/51'),\n",
       " Document(metadata={'source': 'data/privacy policy.pdf', 'page': 4}, page_content=\"connection t o our ser vices. This information includes things lik e your device type and\\ncarrier name , crash r epor ts, which apps y ou've installed, and, depending on y our de vice\\nsettings, other information about how y ou’re using y our Andr oid de vice.\\nYour activity\\nWe collect information about y our activity in our ser vices, which we use t o do things lik e\\nrecommend a Y ouTube video y ou might lik e. The activity information we collect ma y\\ninclude:\\nTerms y ou sear ch for\\nVideos y ou watch\\nViews and inter actions with content and ads\\nVoice and audio information\\nPurchase activity\\nPeople with whom y ou communicate or shar e content\\nActivity on thir d-par ty sites and apps that use our ser vices\\nChrome br owsing hist ory you’ve synced with y our Google Account\\nIf you use our services t o mak e and r eceiv e calls or send and r eceiv e messages , we ma y\\ncollect call and message log information lik e your phone number , calling-par ty number ,9/18/24, 10:49 PM Privacy Policy – Privacy & Terms – Google\\nhttps://policies.google.com/privacy?hl=en-US 5/51\"),\n",
       " Document(metadata={'source': 'data/privacy policy.pdf', 'page': 5}, page_content='receiving-par ty number , forwarding numbers, sender and r ecipient email addr ess, time\\nand date of calls and messages, dur ation of calls, r outing information, and types and\\nvolumes of calls and messages.\\nYou can visit y our Google Account t o \\x00nd and manage activity information that’ s saved in\\nyour account.\\nGo to Google Account\\nYour location information\\nWe collect location information when y ou use our ser vices, which helps us off er featur es\\nlike driving dir ections, sear ch results for things near y ou, and ads based on y our location.\\nDepending on the pr oducts y ou’re using and settings y ou choose, Google ma y use\\ndifferent types of location information t o help mak e some ser vices and pr oducts y ou use\\nmore helpful. These include:\\nGPS and other sensor data fr om y our de vice\\nIP addr ess\\nActivity on Google ser vices , such as fr om y our sear ches or places y ou label lik e\\nhome or work9/18/24, 10:49 PM Privacy Policy – Privacy & Terms – Google\\nhttps://policies.google.com/privacy?hl=en-US 6/51')]"
      ]
     },
     "execution_count": 33,
     "metadata": {},
     "output_type": "execute_result"
    }
   ],
   "source": [
    "from langchain_community.document_loaders import PyPDFLoader\n",
    "\n",
    "loader = PyPDFLoader(\"data/privacy policy.pdf\")\n",
    "pages = loader.load_and_split()\n",
    "pages"
   ]
  },
  {
   "cell_type": "code",
   "execution_count": 34,
   "metadata": {},
   "outputs": [],
   "source": [
    "from langchain.text_splitter import RecursiveCharacterTextSplitter\n",
    "text_splitter = RecursiveCharacterTextSplitter(chunk_size=500, chunk_overlap=20)\n",
    "docs = text_splitter.split_documents(pages)"
   ]
  },
  {
   "cell_type": "code",
   "execution_count": 35,
   "metadata": {},
   "outputs": [],
   "source": [
    "from langchain_community.vectorstores import DocArrayInMemorySearch # type: ignore\n",
    "\n",
    "vectorstore = DocArrayInMemorySearch.from_documents(docs, embedding=embeddings)"
   ]
  },
  {
   "cell_type": "code",
   "execution_count": 36,
   "metadata": {},
   "outputs": [
    {
     "data": {
      "text/plain": [
       "[Document(metadata={'source': 'data/privacy policy.pdf', 'page': 2}, page_content='INFORMATION GOOGLE COLLECTS\\nWe want you to understand the types of\\ninformation we collect as you use our services\\nWe collect information t o provide better ser vices t o all our users — fr om \\x00guring out\\nbasic stuff lik e which language y ou speak, t o mor e complex things lik e which ads y ou’ll\\n\\x00nd most useful , the people who matter most t o you online , or which Y ouTube videos y ou\\nmight lik e. The information Google collects, and how that information is used, depends'),\n",
       " Document(metadata={'source': 'data/privacy policy.pdf', 'page': 3}, page_content='you might choose t o provide us with information — lik e an email addr ess t o\\ncommunicate with Google or r eceiv e updates about our ser vices.\\nWe also collect the content y ou cr eate, upload, or r eceiv e from others when using our\\nservices. This includes things lik e email y ou write and r eceiv e, phot os and videos y ou\\nsave, docs and spr eadsheets y ou cr eate, and comments y ou mak e on Y ouTube videos.\\nInformation we collect as you use our services\\nYour apps, browsers & devices'),\n",
       " Document(metadata={'source': 'data/privacy policy.pdf', 'page': 3}, page_content='We collect information about the apps, br owsers, and devices  you use t o access Google\\nservices, which helps us pr ovide f eatur es lik e aut omatic pr oduct updates and dimming\\nyour scr een if y our batter y runs low .\\nThe information we collect includes unique identi\\x00ers , browser type and settings, de vice\\ntype and settings, oper ating system, mobile network information including carrier name\\nand phone number , and application v ersion number . We also collect information about'),\n",
       " Document(metadata={'source': 'data/privacy policy.pdf', 'page': 1}, page_content='use y our de vice. And acr oss our ser vices, y ou can adjust y our priv acy settings t o contr ol\\nwhether we collect some types of data and how we use it.\\nTo help explain things as clearly as possible, we ’ve added examples, explanat ory videos,\\nand de\\x00nitions for key terms . And if y ou ha ve any questions about this Priv acy P olicy ,\\nyou can contact us .9/18/24, 10:49 PM Privacy Policy – Privacy & Terms – Google\\nhttps://policies.google.com/privacy?hl=en-US 2/51')]"
      ]
     },
     "execution_count": 36,
     "metadata": {},
     "output_type": "execute_result"
    }
   ],
   "source": [
    "retriever = vectorstore.as_retriever()\n",
    "retriever.invoke(\"information\")"
   ]
  },
  {
   "cell_type": "code",
   "execution_count": 37,
   "metadata": {},
   "outputs": [],
   "source": [
    "from operator import itemgetter\n",
    "\n",
    "chain = (\n",
    "    {\n",
    "        \"context\": itemgetter(\"question\") | retriever,\n",
    "        \"question\": itemgetter(\"question\"),\n",
    "    }\n",
    "    | prompt\n",
    "    | model\n",
    "    | parser\n",
    ")"
   ]
  },
  {
   "cell_type": "code",
   "execution_count": 39,
   "metadata": {},
   "outputs": [
    {
     "name": "stdout",
     "output_type": "stream",
     "text": [
      "Answer: According to the documents, Google collects various types of information from users, including:\n",
      "\n",
      "* Unique identifiers\n",
      "* Browser type and settings\n",
      "* Device type and settings\n",
      "* Operating system\n",
      "* Mobile network information (including carrier name and phone number)\n",
      "* Application version number\n",
      "* Language spoken\n",
      "* Information for showing relevant ads (e.g., which ads you'll find most useful)\n",
      "* YouTube video preferences\n",
      "* Activity data (e.g., what websites you visit, what searches you perform)\n",
      "\n",
      "Note that Google also collects information stored with the user's Google Account when they are signed in.\n"
     ]
    }
   ],
   "source": [
    "question = \"\"\" What information does google collects from user?\n",
    "\"\"\"\n",
    "print(f\"Answer: {chain.invoke({'question': question})}\")"
   ]
  },
  {
   "cell_type": "markdown",
   "metadata": {},
   "source": [
    "# Pinecone testing"
   ]
  },
  {
   "cell_type": "code",
   "execution_count": 14,
   "metadata": {},
   "outputs": [],
   "source": [
    "\n",
    "from pinecone import Pinecone, ServerlessSpec\n",
    "\n",
    "pc = Pinecone(api_key=PINECONE_API_KEY)"
   ]
  },
  {
   "cell_type": "code",
   "execution_count": 17,
   "metadata": {},
   "outputs": [],
   "source": [
    "\n",
    "index_name = \"quickstart2\"\n",
    "\n",
    "pc.create_index(\n",
    "    name=index_name,\n",
    "    dimension=1024, # Replace with your model dimensions\n",
    "    metric=\"cosine\", # Replace with your model metric\n",
    "    spec=ServerlessSpec(\n",
    "        cloud=\"aws\",\n",
    "        region=\"us-east-1\"\n",
    "    ) \n",
    ")"
   ]
  },
  {
   "cell_type": "code",
   "execution_count": null,
   "metadata": {},
   "outputs": [],
   "source": [
    "data = [\n",
    "    {\"id\": \"vec1\", \"text\": \"Apple is a popular fruit known for its sweetness and crisp texture.\"},\n",
    "    {\"id\": \"vec2\", \"text\": \"The tech company Apple is known for its innovative products like the iPhone.\"},\n",
    "    {\"id\": \"vec3\", \"text\": \"Many people enjoy eating apples as a healthy snack.\"},\n",
    "    {\"id\": \"vec4\", \"text\": \"Apple Inc. has revolutionized the tech industry with its sleek designs and user-friendly interfaces.\"},\n",
    "    {\"id\": \"vec5\", \"text\": \"An apple a day keeps the doctor away, as the saying goes.\"},\n",
    "    {\"id\": \"vec6\", \"text\": \"Apple Computer Company was founded on April 1, 1976, by Steve Jobs, Steve Wozniak, and Ronald Wayne as a partnership.\"}\n",
    "]\n",
    "\n",
    "embeddings = pc.inference.embed(\n",
    "    model=\"multilingual-e5-large\",\n",
    "    inputs=[d['text'] for d in data],\n",
    "    parameters={\"input_type\": \"passage\", \"truncate\": \"END\"}\n",
    ")\n",
    "print(embeddings[0])"
   ]
  },
  {
   "cell_type": "code",
   "execution_count": null,
   "metadata": {},
   "outputs": [],
   "source": [
    "# Wait for the index to be ready\n",
    "while not pc.describe_index(index_name).status['ready']:\n",
    "    time.sleep(1)\n",
    "\n",
    "index = pc.Index(index_name)\n",
    "\n",
    "vectors = []\n",
    "for d, e in zip(data, embeddings):\n",
    "    vectors.append({\n",
    "        \"id\": d['id'],\n",
    "        \"values\": e['values'],\n",
    "        \"metadata\": {'text': d['text']}\n",
    "    })\n",
    "\n",
    "index.upsert(\n",
    "    vectors=vectors,\n",
    "    namespace=\"ns1\"\n",
    ")"
   ]
  },
  {
   "cell_type": "code",
   "execution_count": null,
   "metadata": {},
   "outputs": [],
   "source": [
    "print(index.describe_index_stats())"
   ]
  },
  {
   "cell_type": "code",
   "execution_count": 191,
   "metadata": {},
   "outputs": [],
   "source": [
    "query = \"Tell me about the tech company known as Apple.\"\n",
    "\n",
    "embedding = pc.inference.embed(\n",
    "    model=\"multilingual-e5-large\",\n",
    "    inputs=[query],\n",
    "    parameters={\n",
    "        \"input_type\": \"query\"\n",
    "    }\n",
    ")"
   ]
  },
  {
   "cell_type": "code",
   "execution_count": null,
   "metadata": {},
   "outputs": [],
   "source": [
    "results = index.query(\n",
    "    namespace=\"ns1\",\n",
    "    vector=embedding[0].values,\n",
    "    top_k=3,\n",
    "    include_values=False,\n",
    "    include_metadata=True\n",
    ")\n",
    "\n",
    "print(results)"
   ]
  }
 ],
 "metadata": {
  "kernelspec": {
   "display_name": "myvenv",
   "language": "python",
   "name": "python3"
  },
  "language_info": {
   "codemirror_mode": {
    "name": "ipython",
    "version": 3
   },
   "file_extension": ".py",
   "mimetype": "text/x-python",
   "name": "python",
   "nbconvert_exporter": "python",
   "pygments_lexer": "ipython3",
   "version": "3.12.3"
  }
 },
 "nbformat": 4,
 "nbformat_minor": 2
}
